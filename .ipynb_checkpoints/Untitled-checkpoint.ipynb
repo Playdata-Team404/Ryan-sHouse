{
 "cells": [
  {
   "cell_type": "code",
   "execution_count": 13,
   "metadata": {},
   "outputs": [],
   "source": [
    "from selenium import webdriver\n",
    "from bs4 import BeautifulSoup\n",
    "import requests\n",
    "import time\n",
    "import pandas as pd\n",
    "import matplotlib.pyplot as plt\n",
    "from mpl_finance import candlestick2_ohlc\n",
    "import matplotlib.ticker as ticker\n",
    "import matplotlib.pyplot as plt\n",
    "import pandas as pd \n",
    "from datetime import datetime\n",
    "from IPython.display import display\n",
    "import warnings"
   ]
  },
  {
   "cell_type": "code",
   "execution_count": 49,
   "metadata": {},
   "outputs": [],
   "source": [
    "# 주식 크롤링\n",
    "def stock(n):\n",
    "    driver = webdriver.Chrome('C:/driver/chromedriver')\n",
    "    driver.get('https://m.stock.naver.com/index.html#/domestic/capitalization/KOSPI')\n",
    "    stock=[]\n",
    "    for i in range(1,n):\n",
    "\n",
    "        driver.find_element_by_xpath('//*[@id=\"content\"]/div[4]/div[2]/div[2]/div[1]/table/tbody/tr[{}]/td[1]/span[1]'.format(i)).click()\n",
    "        time.sleep(1)\n",
    "        driver.find_element_by_xpath('//*[@id=\"common_component_tab\"]/div/ul/li[4]/a').click()\n",
    "        for i in range(1):\n",
    "            driver.execute_script(\"window.scrollTo(0, document.body.scrollHeight);\")\n",
    "            time.sleep(1)\n",
    "        time.sleep(1)\n",
    "        html = driver.page_source\n",
    "        soup=BeautifulSoup(html, 'html.parser')\n",
    "\n",
    "        for i in soup.select_one('tbody'):\n",
    "            c_code = driver.find_element_by_xpath('//*[@id=\"content\"]/div[2]/div[1]/div[1]/span[1]').text[:6]\n",
    "            c_name = driver.find_element_by_xpath('//*[@id=\"content\"]/div[2]/div[1]/div[1]/span[2]').text\n",
    "            today = driver.find_element_by_xpath('//*[@id=\"content\"]/div[4]/div[3]/div[2]/div/div[2]/table/tbody/tr[1]').text\n",
    "        \n",
    "        stock.append([c_code,c_name,today])\n",
    "\n",
    "        driver.back()\n",
    "        driver.back()\n",
    "        time.sleep(1)\n",
    "\n",
    "\n",
    "#     col=['code','name','date','close','open','high','low','volume']\n",
    "#     df = pd.DataFrame(stock,columns=col)\n",
    "#     df\n",
    "#     df.to_csv(\"stock.csv\", mode='a',header=True,index=False)   \n",
    "\n",
    "    return stock"
   ]
  },
  {
   "cell_type": "code",
   "execution_count": null,
   "metadata": {},
   "outputs": [],
   "source": [
    "//*[@id=\"content\"]/div[4]/div[3]/div[2]/div/div[2]/table/tbody/tr[1]\n",
    "\n",
    "//*[@id=\"content\"]/div[4]/div[3]/div[2]/div/div[2]/table/tbody/tr[2]\n",
    "//*[@id=\"content\"]/div[4]/div[3]/div[2]/div/div[2]/table/tbody/tr[3]"
   ]
  },
  {
   "cell_type": "code",
   "execution_count": 50,
   "metadata": {},
   "outputs": [
    {
     "data": {
      "text/plain": [
       "[['005930',\n",
       "  '삼성전자',\n",
       "  '07.16 79,700\\n900900\\n-1.12%\\n80,100 80,100 79,500 5,009,383'],\n",
       " ['000660',\n",
       "  'SK하이닉스',\n",
       "  '07.16 121,000\\n2,5002,500\\n-2.02%\\n122,000 122,500 120,500 1,299,864']]"
      ]
     },
     "execution_count": 50,
     "metadata": {},
     "output_type": "execute_result"
    }
   ],
   "source": [
    "stock(3)"
   ]
  },
  {
   "cell_type": "code",
   "execution_count": null,
   "metadata": {},
   "outputs": [],
   "source": []
  },
  {
   "cell_type": "code",
   "execution_count": 60,
   "metadata": {},
   "outputs": [],
   "source": [
    "# 주식 크롤링\n",
    "def stock(n):\n",
    "    driver = webdriver.Chrome('C:/driver/chromedriver')\n",
    "    driver.get('https://m.stock.naver.com/index.html#/domestic/capitalization/KOSPI')\n",
    "    stock=[]\n",
    "    for i in range(1,n):\n",
    "\n",
    "        driver.find_element_by_xpath('//*[@id=\"content\"]/div[4]/div[2]/div[2]/div[1]/table/tbody/tr[{}]/td[1]/span[1]'.format(i)).click()\n",
    "        time.sleep(1)\n",
    "        driver.find_element_by_xpath('//*[@id=\"common_component_tab\"]/div/ul/li[4]/a').click()\n",
    "        for i in range(1):\n",
    "            driver.execute_script(\"window.scrollTo(0, document.body.scrollHeight);\")\n",
    "            time.sleep(1)\n",
    "        time.sleep(1)\n",
    "        html = driver.page_source\n",
    "        soup=BeautifulSoup(html, 'html.parser')\n",
    "        \n",
    "        for i in soup.select_one('tbody'):\n",
    "            company1=[]\n",
    "            company1.append(driver.find_element_by_xpath('//*[@id=\"content\"]/div[2]/div[1]/div[1]/span[1]').text[:6])\n",
    "            company1.append(driver.find_element_by_xpath('//*[@id=\"content\"]/div[2]/div[1]/div[1]/span[2]').text)\n",
    "\n",
    "        for i in soup.select('#content > div:nth-child(4) > div:nth-child(3) > div:nth-child(2) > div > div.VTablePrice_article__DfdmT > table > tbody > tr:nth-child(1)'):\n",
    "            company2=[]\n",
    "            company2.append(i.select('.VTablePrice_td__PZi0o')[0].text)\n",
    "            company2.append(int(i.select('.VTablePrice_td__PZi0o')[1].text.replace(',','')))\n",
    "            company2.append(int(i.select('.VTablePrice_td__PZi0o')[4].text.replace(',','')))\n",
    "            company2.append(int(i.select('.VTablePrice_td__PZi0o')[5].text.replace(',','')))\n",
    "            company2.append(int(i.select('.VTablePrice_td__PZi0o')[6].text.replace(',','')))\n",
    "            company2.append(int(i.select('.VTablePrice_td__PZi0o')[7].text.replace(',','')))\n",
    "\n",
    "        stock.append(company1)\n",
    "\n",
    "        driver.back()\n",
    "        driver.back()\n",
    "        time.sleep(1)\n",
    "\n",
    "\n",
    "#     col=['code','name','date','close','open','high','low','volume']\n",
    "#     df = pd.DataFrame(stock,columns=col)\n",
    "#     df\n",
    "#     df.to_csv(\"stock.csv\", mode='a',header=True,index=False)   \n",
    "\n",
    "    return stock"
   ]
  },
  {
   "cell_type": "code",
   "execution_count": 61,
   "metadata": {},
   "outputs": [
    {
     "ename": "NameError",
     "evalue": "name 'company' is not defined",
     "output_type": "error",
     "traceback": [
      "\u001b[1;31m---------------------------------------------------------------------------\u001b[0m",
      "\u001b[1;31mNameError\u001b[0m                                 Traceback (most recent call last)",
      "\u001b[1;32m<ipython-input-61-93577c09e9d7>\u001b[0m in \u001b[0;36m<module>\u001b[1;34m\u001b[0m\n\u001b[1;32m----> 1\u001b[1;33m \u001b[0mstock\u001b[0m\u001b[1;33m(\u001b[0m\u001b[1;36m3\u001b[0m\u001b[1;33m)\u001b[0m\u001b[1;33m\u001b[0m\u001b[1;33m\u001b[0m\u001b[0m\n\u001b[0m",
      "\u001b[1;32m<ipython-input-60-6a23c0fe3e40>\u001b[0m in \u001b[0;36mstock\u001b[1;34m(n)\u001b[0m\n\u001b[0;32m     18\u001b[0m         \u001b[1;32mfor\u001b[0m \u001b[0mi\u001b[0m \u001b[1;32min\u001b[0m \u001b[0msoup\u001b[0m\u001b[1;33m.\u001b[0m\u001b[0mselect_one\u001b[0m\u001b[1;33m(\u001b[0m\u001b[1;34m'tbody'\u001b[0m\u001b[1;33m)\u001b[0m\u001b[1;33m:\u001b[0m\u001b[1;33m\u001b[0m\u001b[1;33m\u001b[0m\u001b[0m\n\u001b[0;32m     19\u001b[0m             \u001b[0mcompany1\u001b[0m\u001b[1;33m=\u001b[0m\u001b[1;33m[\u001b[0m\u001b[1;33m]\u001b[0m\u001b[1;33m\u001b[0m\u001b[1;33m\u001b[0m\u001b[0m\n\u001b[1;32m---> 20\u001b[1;33m             \u001b[0mcompany\u001b[0m\u001b[1;33m.\u001b[0m\u001b[0mappend\u001b[0m\u001b[1;33m(\u001b[0m\u001b[0mdriver\u001b[0m\u001b[1;33m.\u001b[0m\u001b[0mfind_element_by_xpath\u001b[0m\u001b[1;33m(\u001b[0m\u001b[1;34m'//*[@id=\"content\"]/div[2]/div[1]/div[1]/span[1]'\u001b[0m\u001b[1;33m)\u001b[0m\u001b[1;33m.\u001b[0m\u001b[0mtext\u001b[0m\u001b[1;33m[\u001b[0m\u001b[1;33m:\u001b[0m\u001b[1;36m6\u001b[0m\u001b[1;33m]\u001b[0m\u001b[1;33m)\u001b[0m\u001b[1;33m\u001b[0m\u001b[1;33m\u001b[0m\u001b[0m\n\u001b[0m\u001b[0;32m     21\u001b[0m             \u001b[0mcompany\u001b[0m\u001b[1;33m.\u001b[0m\u001b[0mappend\u001b[0m\u001b[1;33m(\u001b[0m\u001b[0mdriver\u001b[0m\u001b[1;33m.\u001b[0m\u001b[0mfind_element_by_xpath\u001b[0m\u001b[1;33m(\u001b[0m\u001b[1;34m'//*[@id=\"content\"]/div[2]/div[1]/div[1]/span[2]'\u001b[0m\u001b[1;33m)\u001b[0m\u001b[1;33m.\u001b[0m\u001b[0mtext\u001b[0m\u001b[1;33m)\u001b[0m\u001b[1;33m\u001b[0m\u001b[1;33m\u001b[0m\u001b[0m\n\u001b[0;32m     22\u001b[0m \u001b[1;33m\u001b[0m\u001b[0m\n",
      "\u001b[1;31mNameError\u001b[0m: name 'company' is not defined"
     ]
    }
   ],
   "source": [
    "stock(3)"
   ]
  },
  {
   "cell_type": "code",
   "execution_count": null,
   "metadata": {},
   "outputs": [],
   "source": []
  },
  {
   "cell_type": "code",
   "execution_count": null,
   "metadata": {},
   "outputs": [],
   "source": []
  },
  {
   "cell_type": "code",
   "execution_count": null,
   "metadata": {},
   "outputs": [],
   "source": []
  },
  {
   "cell_type": "code",
   "execution_count": null,
   "metadata": {},
   "outputs": [],
   "source": []
  },
  {
   "cell_type": "code",
   "execution_count": null,
   "metadata": {},
   "outputs": [],
   "source": []
  }
 ],
 "metadata": {
  "kernelspec": {
   "display_name": "Python 3",
   "language": "python",
   "name": "python3"
  },
  "language_info": {
   "codemirror_mode": {
    "name": "ipython",
    "version": 3
   },
   "file_extension": ".py",
   "mimetype": "text/x-python",
   "name": "python",
   "nbconvert_exporter": "python",
   "pygments_lexer": "ipython3",
   "version": "3.8.5"
  }
 },
 "nbformat": 4,
 "nbformat_minor": 4
}
